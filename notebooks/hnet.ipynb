{
  "nbformat": 4,
  "nbformat_minor": 0,
  "metadata": {
    "colab": {
      "provenance": []
    },
    "kernelspec": {
      "name": "python3",
      "display_name": "Python 3"
    }
  },
  "cells": [
    {
      "cell_type": "markdown",
      "metadata": {
        "id": "H2c0lF4kjpeX"
      },
      "source": [
        "<!-- Centered logo -->\n",
        "<p align=\"center\">\n",
        "  <img src=\"https://github.com/erdogant/hnet/blob/master/docs/figs/logo.png?raw=true\" width=\"400\" />\n",
        "</p>\n",
        "\n",
        "<!-- Badges row (centered) -->\n",
        "<p align=\"center\">\n",
        "  <a href=\"https://img.shields.io/pypi/pyversions/hnet\"><img src=\"https://img.shields.io/pypi/pyversions/hnet\" /></a>\n",
        "  <a href=\"https://pypi.org/project/hnet/\"><img src=\"https://img.shields.io/pypi/v/bnlearn\" /></a>\n",
        "  <img src=\"https://img.shields.io/github/stars/erdogant/hnet\" />\n",
        "  <a href=\"https://github.com/erdogant/hnet/blob/master/LICENSE\"><img src=\"https://img.shields.io/badge/license-MIT-green.svg\" /></a>\n",
        "  <a href=\"https://github.com/erdogant/hnet/network\"><img src=\"https://img.shields.io/github/forks/erdogant/hnet.svg\" /></a>\n",
        "  <a href=\"https://github.com/erdogant/hnet/issues\"><img src=\"https://img.shields.io/github/issues/erdogant/hnet.svg\" /></a>\n",
        "  <a href=\"http://www.repostatus.org/#active\"><img src=\"http://www.repostatus.org/badges/latest/active.svg\" /></a>\n",
        "  <a href=\"https://pepy.tech/project/hnet/\"><img src=\"https://pepy.tech/badge/hnet/month\" /></a>\n",
        "  <a href=\"https://pepy.tech/project/hnet/\"><img src=\"https://pepy.tech/badge/hnet\" /></a>\n",
        "  <a href=\"https://zenodo.org/badge/latestdoi/231263493\"><img src=\"https://zenodo.org/badge/231263493.svg\" /></a>\n",
        "  <a href=\"https://erdogant.github.io/hnet/\"><img src=\"https://img.shields.io/badge/Sphinx-Docs-Green\" /></a>\n",
        "  <a href=\"https://erdogant.github.io/bnlearn/pages/html/Documentation.html#medium-blog\"><img src=\"https://img.shields.io/badge/Medium-Blog-black\" /></a>\n",
        "  <img src=\"https://img.shields.io/github/repo-size/erdogant/hnet\" />\n",
        "  <a href=\"https://erdogant.github.io/bnlearn/pages/html/Documentation.html#\"><img src=\"https://img.shields.io/badge/Support%20this%20project-grey.svg?logo=github%20sponsors\" /></a>\n",
        "  <a href=\"https://erdogant.github.io/hnet/pages/html/Documentation.html#colab-notebook\"><img src=\"https://colab.research.google.com/assets/colab-badge.svg\" /></a>\n",
        "</p>\n",
        "\n",
        "---\n",
        "\n",
        "# hnet\n",
        "\n",
        "**HNet** stands for ***graphical Hypergeometric Networks***, which is a method where associations across variables are tested for significance by statistical inference. ⭐️Star it if you like it⭐️\n",
        "\n",
        "---\n",
        "\n",
        "Real-world data often contain measurements with both continuous and discrete values. Despite the availability of many libraries, data sets with mixed data types require intensive pre-processing steps, and it remains a challenge to describe the relationships between variables. The data understanding phase is crucial to the data-mining process, however, without making any assumptions on the data, the search space is super-exponential in the number of variables. A thorough data understanding phase is therefore not common practice.\n",
        "\n",
        "\n",
        "\n",
        "---\n",
        "\n",
        "## Core functionalities:\n",
        "\n",
        "| Feature | Description |\n",
        "|--------|-------------|\n",
        "| [**Parametric Fitting**](https://erdogant.github.io/hnet/pages/html/Parametric.html) | Fit distributions on empirical data X. |\n",
        "| [**Non-Parametric Fitting**](https://erdogant.github.io/hnet/pages/html/Quantile.html) | Fit distributions on empirical data X using non-parametric approaches (quantile, percentiles). |\n",
        "| [**Discrete Fitting**](https://erdogant.github.io/hnet/pages/html/Discrete.html) | Fit distributions on empirical data X using binomial distribution. |\n",
        "| [**Predict**](https://erdogant.github.io/hnet/pages/html/Functions.html#module-hnet.hnet.hnet.predict) | Compute probabilities for response variables y. |\n",
        "| [**Synthetic Data**](https://erdogant.github.io/hnet/pages/html/Generate.html) |  Generate synthetic data. |\n",
        "| [**Plots**](https://erdogant.github.io/hnet/pages/html/Plots.html) | Varoius plotting functionalities. |\n",
        "\n",
        "---\n",
        "\n",
        "### Support\n",
        "* This library is for <b>free</b> but improvements and new functionalities are made using coffee! :)\n",
        "\n",
        "* You can also [support](https://erdogant.github.io/hnet/pages/html/Documentation.html) in various other ways, have a look at the [sponser page](https://erdogant.github.io/bnlearn/pages/html/Documentation.html).\n",
        "\n",
        "* Report bugs, issues and feature extensions at [github page](https://github.com/erdogant/bnlearn).\n",
        "\n",
        "<table>\n",
        "  <tr>\n",
        "    <td style=\"text-align: center;\">\n",
        "      <a href=\"https://www.buymeacoffee.com/erdogant\">\n",
        "        <img src=\"https://img.buymeacoffee.com/button-api/?text=Buy me a coffee&emoji=&slug=erdogant&button_colour=FFDD00&font_colour=000000&font_family=Cookie&outline_colour=000000&coffee_colour=ffffff\" />\n",
        "      </a>\n",
        "    </td>\n",
        "    <td style=\"text-align: center;\">\n",
        "      <a href=\"https://erdogant.medium.com/subscribe\" target=\"_blank\">\n",
        "        <img height=\"50\" style=\"border:0px;height:36px;\" src=\"https://erdogant.github.io/images/medium_follow_me.jpg\" border=\"0\" alt=\"Follow me on Medium\" />\n",
        "      </a>\n",
        "    </td>\n",
        "  </tr>\n",
        "</table>\n",
        "\n",
        "---\n",
        "\n",
        "### Blog Posts with Podcast\n",
        "- [**Medium**](https://erdogant.github.io/hnet/pages/html/Documentation.html#medium-blogs)\n",
        "- [**Gumroad with podcast**](https://erdogant.github.io/hnet/pages/html/Documentation.html#gumroad-products-with-podcasts)\n",
        "- [**Article**](https://arxiv.org/abs/2005.04679)\n",
        "\n",
        "* [API Documentation](https://erdogant.github.io/hnet/)\n",
        "* [Github]( https://github.com/erdogant/hnet)\n",
        "\n",
        "\n",
        "-------------\n"
      ]
    },
    {
      "cell_type": "code",
      "metadata": {
        "id": "bH5Lq4KajjF1"
      },
      "source": [
        "!pip install -U hnet\n",
        "import hnet\n",
        "print(hnet.__version__)"
      ],
      "execution_count": null,
      "outputs": []
    },
    {
      "cell_type": "code",
      "metadata": {
        "id": "oSd_ofaejlEt"
      },
      "source": [
        "import pandas as pd\n",
        "import numpy as np\n",
        "from hnet import hnet"
      ],
      "execution_count": null,
      "outputs": []
    },
    {
      "cell_type": "markdown",
      "metadata": {
        "id": "FCE9Rm-5zYEH"
      },
      "source": [
        "# Import example dataset\n",
        "\n",
        "There are various options that can be downloaded using hnet.\n",
        "* 'sprinkler'\n",
        "* 'titanic'\n",
        "* 'student'\n",
        "* 'fifa'\n",
        "* 'cancer'\n",
        "* 'waterpump'\n",
        "* 'retail'"
      ]
    },
    {
      "cell_type": "code",
      "metadata": {
        "id": "FGDLiL1ZkLl0"
      },
      "source": [
        "hn = hnet()\n",
        "df = hn.import_example(data='titanic')\n",
        "\n",
        "# Removing variables for which I know that will not contribute in the model.\n",
        "del df['PassengerId']\n",
        "del df['Name']\n",
        "df.head()"
      ],
      "execution_count": null,
      "outputs": []
    },
    {
      "cell_type": "code",
      "metadata": {
        "id": "s9Zlj_R_GJqS"
      },
      "source": [
        "# Initialize model with default parameters\n",
        "hn = hnet()"
      ],
      "execution_count": null,
      "outputs": []
    },
    {
      "cell_type": "markdown",
      "metadata": {
        "id": "OLPqI8eWGaC5"
      },
      "source": [
        "==============================================================================="
      ]
    },
    {
      "cell_type": "markdown",
      "metadata": {
        "id": "ELxsRkYc1aWO"
      },
      "source": [
        "## Import data from url\n",
        "\n",
        "***HNet*** allows direct downloads from the internet using a url-link. As an example, the [UCI](https://archive.ics.uci.edu/ml/) website is a huge *machine learning data repository*. Lets automatically download and import a datset from UCI website. Note that **not** all datasets can be used. The data needs to be in a csv format (not json), and the datasets needs to have at least 1 categorical variable."
      ]
    },
    {
      "cell_type": "code",
      "metadata": {
        "id": "cHY-kgVx1XCK"
      },
      "source": [
        "# Import dataset from website\n",
        "url='https://archive.ics.uci.edu/ml/machine-learning-databases/adult/adult.data'\n",
        "\n",
        "df = hn.import_example(url=url)\n",
        "# Add column names\n",
        "df.columns=['age','workclass','fnlwgt','education','education-num','marital-status','occupation','relationship','race','sex','capital-gain','capital-loss','hours-per-week','native-country','earnings']\n",
        "# Set the following columns as floating type\n",
        "cols_as_float = ['age','hours-per-week','capital-loss','capital-gain']\n",
        "df[cols_as_float]=df[cols_as_float].astype(float)\n"
      ],
      "execution_count": null,
      "outputs": []
    },
    {
      "cell_type": "code",
      "metadata": {
        "id": "VafJhfE04HFt"
      },
      "source": [
        "# Lets examine the dataset wether the columns are set correctly and the variable name matches the items.\n",
        "df.head()"
      ],
      "execution_count": null,
      "outputs": []
    },
    {
      "cell_type": "code",
      "metadata": {
        "id": "wxKnPgPW3g7h"
      },
      "source": [
        "# Initialize model with variable fnlwgt in the black-list. This means that it is not included in the modelling.\n",
        "hn = hnet(black_list=['fnlwgt'])"
      ],
      "execution_count": null,
      "outputs": []
    },
    {
      "cell_type": "markdown",
      "metadata": {
        "id": "sZQcnnb6GTSK"
      },
      "source": [
        "==============================================================================="
      ]
    },
    {
      "cell_type": "markdown",
      "metadata": {
        "id": "RkWafOEoGeDg"
      },
      "source": [
        "### Association learning using **HNet**"
      ]
    },
    {
      "cell_type": "code",
      "metadata": {
        "id": "KlxkKSIW37tG"
      },
      "source": [
        "# Learn its associations\n",
        "results = hn.association_learning(df)"
      ],
      "execution_count": null,
      "outputs": []
    },
    {
      "cell_type": "code",
      "metadata": {
        "id": "poDcyeFOlf9u"
      },
      "source": [
        "# All the results are stored in results\n",
        "print(results.keys())\n",
        "\n",
        "# The results are accesable by using the keys.\n",
        "\n",
        "#results['labx']\n",
        "\n",
        "#results['counts']\n",
        "\n",
        "#results['simmatLogP']\n",
        "\n",
        "#results['dtypes']"
      ],
      "execution_count": null,
      "outputs": []
    },
    {
      "cell_type": "markdown",
      "metadata": {
        "id": "gkTR_qFG6TWd"
      },
      "source": [
        "## Plotting\n",
        "\n",
        "There are many possibilities regarding plotting the results.\n",
        "There are ***static*** plots, and ***dynamic*** plots. In case of using colab, the dynamic plots will not work as it requires writing d3-javascript files to disk. The following functions are available for plotting:\n",
        "\n",
        "#### Network-graph\n",
        "* hn.plot()\n",
        "* hn.d3graph()\n",
        "\n",
        "#### Heatmap\n",
        "* hn.heatmap()\n",
        "* hn.d3heatmap()\n"
      ]
    },
    {
      "cell_type": "code",
      "metadata": {
        "id": "BmeKk_jQlrbL"
      },
      "source": [
        "# Lets plot a static network\n",
        "\n",
        "# If the network looks like a big hairball, try to play with some of the following parameters:\n",
        "ax = hn.plot(scale=1, dpi=100, figsize=(15,15))\n",
        "# ax = hn.plot(scale=10, dist_between_nodes=2, figsize=(20,20), dpi=400)"
      ],
      "execution_count": null,
      "outputs": []
    },
    {
      "cell_type": "code",
      "metadata": {
        "id": "2uh-g_xxl53N"
      },
      "source": [
        "# Make the network plot interactive with d3-javascript\n",
        "out = hn.d3graph()\n",
        "\n",
        "# Download files and open locally it does not open automatically:\n",
        "print(out['path'])"
      ],
      "execution_count": null,
      "outputs": []
    },
    {
      "cell_type": "code",
      "metadata": {
        "id": "S0_5iGnX9pp1"
      },
      "source": [
        "# Plot the heatmap\n",
        "\n",
        "# Plot the heatmap without ordering:\n",
        "ax = hn.heatmap(figsize=(10,10))\n",
        "\n",
        "# Cluster the heatmap:\n",
        "ax = hn.heatmap(cluster=True, figsize=(10,10))"
      ],
      "execution_count": null,
      "outputs": []
    },
    {
      "cell_type": "code",
      "metadata": {
        "id": "d_ibILgnH2cO"
      },
      "source": [
        "# Plot the heatmap in d3-javascript\n",
        "\n",
        "# Plot the heatmap without ordering:\n",
        "# ax = hn.d3heatmap(vmax=1)"
      ],
      "execution_count": null,
      "outputs": []
    },
    {
      "cell_type": "code",
      "metadata": {
        "id": "bVze_51qu9Ho"
      },
      "source": [
        "# Feature importance\n",
        "hn.plot_feat_importance()"
      ],
      "execution_count": null,
      "outputs": []
    },
    {
      "cell_type": "code",
      "metadata": {
        "id": "4s4Eq9Ex7n8G"
      },
      "source": [
        "# Plot summarized results over the categories\n",
        "\n",
        "# Make the network plot interactive with d3-javascript\n",
        "graph = hn.d3graph(summarize=True)\n",
        "\n",
        "# Plot the heatmap without ordering:\n",
        "ax = hn.plot(figsize=(10,10), summarize=True)\n"
      ],
      "execution_count": null,
      "outputs": []
    },
    {
      "cell_type": "code",
      "metadata": {
        "id": "P0elz2K57zx-"
      },
      "source": [
        "# Plot summarized results over the categories\n",
        "\n",
        "# Make the network plot interactive with d3-javascript\n",
        "out = hn.d3heatmap(summarize=True)\n",
        "\n",
        "# Plot the heatmap without ordering:\n",
        "ax = hn.heatmap(figsize=(10,10), summarize=True, cluster=True)\n"
      ],
      "execution_count": null,
      "outputs": []
    },
    {
      "cell_type": "code",
      "metadata": {
        "id": "bUqEl1sYmIfC"
      },
      "source": [
        "# Save the resuls\n",
        "savepath=hn.save(overwrite=True)"
      ],
      "execution_count": null,
      "outputs": []
    },
    {
      "cell_type": "code",
      "metadata": {
        "id": "gE8rFORTvieg"
      },
      "source": [
        "dir(hn)"
      ],
      "execution_count": null,
      "outputs": []
    },
    {
      "cell_type": "markdown",
      "metadata": {
        "id": "YEnHbaDKRTkX"
      },
      "source": [
        "**Lets make an interactive and responsive network using pyvis**"
      ]
    },
    {
      "cell_type": "code",
      "metadata": {
        "id": "BgyKAtQtRXU_"
      },
      "source": [
        "!pip install pyvis\n",
        "from pyvis import network as net\n",
        "from IPython.core.display import display, HTML\n",
        "from hnet.network import adjmat2graph"
      ],
      "execution_count": null,
      "outputs": []
    },
    {
      "cell_type": "code",
      "metadata": {
        "id": "XeeMghaaS2-2"
      },
      "source": [
        "# Convert adjacency matrix into Networkx Graph\n",
        "G=adjmat2graph(hn.results['simmatLogP'])\n",
        "# Setup of the interactive network figure\n",
        "g = net.Network(height='800px', width='80%',notebook=True,heading='HNET association Network')\n",
        "g.from_nx(G)\n",
        "# Create advanced buttons\n",
        "g.show_buttons(filter_=['physics'])\n",
        "# Display\n",
        "g.show('hnet.html')\n",
        "display(HTML('hnet.html'))\n"
      ],
      "execution_count": null,
      "outputs": []
    },
    {
      "cell_type": "markdown",
      "metadata": {
        "id": "R5zSB8qNW0QH"
      },
      "source": [
        "Fin"
      ]
    }
  ]
}